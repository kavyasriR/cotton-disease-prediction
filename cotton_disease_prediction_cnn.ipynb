{
  "nbformat": 4,
  "nbformat_minor": 0,
  "metadata": {
    "kernelspec": {
      "display_name": "Python 3",
      "language": "python",
      "name": "python3"
    },
    "language_info": {
      "codemirror_mode": {
        "name": "ipython",
        "version": 3
      },
      "file_extension": ".py",
      "mimetype": "text/x-python",
      "name": "python",
      "nbconvert_exporter": "python",
      "pygments_lexer": "ipython3",
      "version": "3.7.6"
    },
    "papermill": {
      "duration": 264.549396,
      "end_time": "2020-12-23T10:28:03.041175",
      "environment_variables": {},
      "exception": null,
      "input_path": "__notebook__.ipynb",
      "output_path": "__notebook__.ipynb",
      "parameters": {},
      "start_time": "2020-12-23T10:23:38.491779",
      "version": "2.1.0"
    },
    "colab": {
      "name": "cotton-disease-prediction-cnn.ipynb",
      "provenance": [],
      "collapsed_sections": []
    },
    "accelerator": "GPU"
  },
  "cells": [
    {
      "cell_type": "markdown",
      "metadata": {
        "papermill": {
          "duration": 0.021326,
          "end_time": "2020-12-23T10:23:44.115064",
          "exception": false,
          "start_time": "2020-12-23T10:23:44.093738",
          "status": "completed"
        },
        "tags": [],
        "id": "6t9IcnSwGMuO"
      },
      "source": [
        "## Libraries"
      ]
    },
    {
      "cell_type": "code",
      "metadata": {
        "execution": {
          "iopub.execute_input": "2020-12-23T10:23:44.152953Z",
          "iopub.status.busy": "2020-12-23T10:23:44.152007Z",
          "iopub.status.idle": "2020-12-23T10:23:50.869014Z",
          "shell.execute_reply": "2020-12-23T10:23:50.867168Z"
        },
        "papermill": {
          "duration": 6.738586,
          "end_time": "2020-12-23T10:23:50.869184",
          "exception": false,
          "start_time": "2020-12-23T10:23:44.130598",
          "status": "completed"
        },
        "tags": [],
        "id": "UfwIVNcaGMuO"
      },
      "source": [
        "import tensorflow as tf\n",
        "from tensorflow.keras.preprocessing.image import ImageDataGenerator\n",
        "from tensorflow.keras.layers import Conv2D\n",
        "import numpy as np\n",
        "from tensorflow.keras.preprocessing import image"
      ],
      "execution_count": null,
      "outputs": []
    },
    {
      "cell_type": "markdown",
      "metadata": {
        "papermill": {
          "duration": 0.015644,
          "end_time": "2020-12-23T10:23:50.901533",
          "exception": false,
          "start_time": "2020-12-23T10:23:50.885889",
          "status": "completed"
        },
        "tags": [],
        "id": "TihzZA37GMuP"
      },
      "source": [
        " ## Training & DataLoader"
      ]
    },
    {
      "cell_type": "code",
      "metadata": {
        "execution": {
          "iopub.execute_input": "2020-12-23T10:23:50.940803Z",
          "iopub.status.busy": "2020-12-23T10:23:50.940098Z",
          "iopub.status.idle": "2020-12-23T10:23:50.943661Z",
          "shell.execute_reply": "2020-12-23T10:23:50.943038Z"
        },
        "papermill": {
          "duration": 0.026123,
          "end_time": "2020-12-23T10:23:50.943779",
          "exception": false,
          "start_time": "2020-12-23T10:23:50.917656",
          "status": "completed"
        },
        "tags": [],
        "id": "b8Kz6xiRGMuP"
      },
      "source": [
        "train_datagen = ImageDataGenerator(rescale = 1./255,\n",
        "                                   shear_range = 0.2,\n",
        "                                   zoom_range = 0.2,\n",
        "                                   horizontal_flip = True)"
      ],
      "execution_count": null,
      "outputs": []
    },
    {
      "cell_type": "code",
      "metadata": {
        "colab": {
          "base_uri": "https://localhost:8080/"
        },
        "id": "b-GzIpjZFjKI",
        "outputId": "211f38dd-767d-4aaf-8009-76634ab90d84"
      },
      "source": [
        "from google.colab import drive\n",
        "drive.mount('/content/drive')"
      ],
      "execution_count": null,
      "outputs": [
        {
          "output_type": "stream",
          "name": "stdout",
          "text": [
            "Mounted at /content/drive\n"
          ]
        }
      ]
    },
    {
      "cell_type": "code",
      "metadata": {
        "execution": {
          "iopub.execute_input": "2020-12-23T10:23:50.982988Z",
          "iopub.status.busy": "2020-12-23T10:23:50.982148Z",
          "iopub.status.idle": "2020-12-23T10:23:51.515560Z",
          "shell.execute_reply": "2020-12-23T10:23:51.516456Z"
        },
        "papermill": {
          "duration": 0.557009,
          "end_time": "2020-12-23T10:23:51.516661",
          "exception": false,
          "start_time": "2020-12-23T10:23:50.959652",
          "status": "completed"
        },
        "tags": [],
        "colab": {
          "base_uri": "https://localhost:8080/"
        },
        "id": "HRsHyw7dGMuQ",
        "outputId": "ef0bef69-3b08-486e-8ba6-3800e11f4bbc"
      },
      "source": [
        "training_set = train_datagen.flow_from_directory('/content/drive/MyDrive/bio/archive/Cotton Disease/train',\n",
        "                                                 target_size=  (64, 64),\n",
        "                                                 batch_size = 32,\n",
        "                                                 class_mode = 'categorical')\n",
        "\n",
        "# Preprocessing the Test set\n",
        "test_datagen = ImageDataGenerator(rescale = 1./255)\n",
        "test_set = test_datagen.flow_from_directory('/content/drive/MyDrive/bio/archive/Cotton Disease/test',\n",
        "                                            target_size = (64, 64),\n",
        "                                            batch_size = 32,\n",
        "                                            class_mode = 'categorical')"
      ],
      "execution_count": null,
      "outputs": [
        {
          "output_type": "stream",
          "name": "stdout",
          "text": [
            "Found 1951 images belonging to 4 classes.\n",
            "Found 106 images belonging to 4 classes.\n"
          ]
        }
      ]
    },
    {
      "cell_type": "markdown",
      "metadata": {
        "papermill": {
          "duration": 0.016596,
          "end_time": "2020-12-23T10:23:51.557991",
          "exception": false,
          "start_time": "2020-12-23T10:23:51.541395",
          "status": "completed"
        },
        "tags": [],
        "id": "B0jfb-PdGMuR"
      },
      "source": [
        "## Building the CNN"
      ]
    },
    {
      "cell_type": "code",
      "metadata": {
        "execution": {
          "iopub.execute_input": "2020-12-23T10:23:51.603290Z",
          "iopub.status.busy": "2020-12-23T10:23:51.602571Z",
          "iopub.status.idle": "2020-12-23T10:23:51.766519Z",
          "shell.execute_reply": "2020-12-23T10:23:51.767228Z"
        },
        "papermill": {
          "duration": 0.192186,
          "end_time": "2020-12-23T10:23:51.767416",
          "exception": false,
          "start_time": "2020-12-23T10:23:51.575230",
          "status": "completed"
        },
        "tags": [],
        "id": "H6fKNQVlGMuR"
      },
      "source": [
        "# Initialising the CNN\n",
        "cnn = tf.keras.models.Sequential()\n",
        "\n",
        "# Step 1 - Convolution\n",
        "cnn.add(tf.keras.layers.Conv2D(filters=32,padding=\"same\",kernel_size=3, activation='relu', input_shape=[64, 64, 3]))\n",
        "\n",
        "# Step 2 - Pooling\n",
        "cnn.add(tf.keras.layers.MaxPool2D(pool_size=2, strides=2))\n",
        "\n",
        "# Adding a second convolutional layer\n",
        "cnn.add(tf.keras.layers.Conv2D(filters=32,padding='same',kernel_size=3, activation='relu'))\n",
        "cnn.add(tf.keras.layers.MaxPool2D(pool_size=2, strides=2))\n",
        "\n",
        "# Step 3 - Flattening\n",
        "cnn.add(tf.keras.layers.Flatten())\n",
        "\n",
        "# Step 4 - Full Connection\n",
        "cnn.add(tf.keras.layers.Dense(units=128, activation='relu'))\n",
        "\n",
        "# Step 5 - Output Layer\n",
        "cnn.add(tf.keras.layers.Dense(units=4, activation='softmax')) "
      ],
      "execution_count": null,
      "outputs": []
    },
    {
      "cell_type": "markdown",
      "metadata": {
        "papermill": {
          "duration": 0.01711,
          "end_time": "2020-12-23T10:23:51.802109",
          "exception": false,
          "start_time": "2020-12-23T10:23:51.784999",
          "status": "completed"
        },
        "tags": [],
        "id": "4DbKA0eWGMuS"
      },
      "source": [
        "## Summary"
      ]
    },
    {
      "cell_type": "code",
      "metadata": {
        "execution": {
          "iopub.execute_input": "2020-12-23T10:23:51.840327Z",
          "iopub.status.busy": "2020-12-23T10:23:51.839320Z",
          "iopub.status.idle": "2020-12-23T10:23:51.850067Z",
          "shell.execute_reply": "2020-12-23T10:23:51.850921Z"
        },
        "papermill": {
          "duration": 0.031716,
          "end_time": "2020-12-23T10:23:51.851120",
          "exception": false,
          "start_time": "2020-12-23T10:23:51.819404",
          "status": "completed"
        },
        "tags": [],
        "colab": {
          "base_uri": "https://localhost:8080/"
        },
        "id": "qZ4Myb88GMuS",
        "outputId": "089288a9-5ddc-4218-96a2-499340205395"
      },
      "source": [
        "cnn.summary()\n"
      ],
      "execution_count": null,
      "outputs": [
        {
          "output_type": "stream",
          "name": "stdout",
          "text": [
            "Model: \"sequential\"\n",
            "_________________________________________________________________\n",
            "Layer (type)                 Output Shape              Param #   \n",
            "=================================================================\n",
            "conv2d (Conv2D)              (None, 64, 64, 32)        896       \n",
            "_________________________________________________________________\n",
            "max_pooling2d (MaxPooling2D) (None, 32, 32, 32)        0         \n",
            "_________________________________________________________________\n",
            "conv2d_1 (Conv2D)            (None, 32, 32, 32)        9248      \n",
            "_________________________________________________________________\n",
            "max_pooling2d_1 (MaxPooling2 (None, 16, 16, 32)        0         \n",
            "_________________________________________________________________\n",
            "flatten (Flatten)            (None, 8192)              0         \n",
            "_________________________________________________________________\n",
            "dense (Dense)                (None, 128)               1048704   \n",
            "_________________________________________________________________\n",
            "dense_1 (Dense)              (None, 4)                 516       \n",
            "=================================================================\n",
            "Total params: 1,059,364\n",
            "Trainable params: 1,059,364\n",
            "Non-trainable params: 0\n",
            "_________________________________________________________________\n"
          ]
        }
      ]
    },
    {
      "cell_type": "markdown",
      "metadata": {
        "papermill": {
          "duration": 0.016599,
          "end_time": "2020-12-23T10:23:51.892038",
          "exception": false,
          "start_time": "2020-12-23T10:23:51.875439",
          "status": "completed"
        },
        "tags": [],
        "id": "ywNUs9oaGMuT"
      },
      "source": [
        "## Training the CNN"
      ]
    },
    {
      "cell_type": "code",
      "metadata": {
        "execution": {
          "iopub.execute_input": "2020-12-23T10:23:51.930532Z",
          "iopub.status.busy": "2020-12-23T10:23:51.929074Z",
          "iopub.status.idle": "2020-12-23T10:27:56.400557Z",
          "shell.execute_reply": "2020-12-23T10:27:56.399956Z"
        },
        "papermill": {
          "duration": 244.491837,
          "end_time": "2020-12-23T10:27:56.400671",
          "exception": false,
          "start_time": "2020-12-23T10:23:51.908834",
          "status": "completed"
        },
        "tags": [],
        "colab": {
          "base_uri": "https://localhost:8080/"
        },
        "id": "KLcJE8mWGMuT",
        "outputId": "29b7ec7e-1d0d-47d1-d597-50486d25ffb9"
      },
      "source": [
        "# Compiling the CNN\n",
        "cnn.compile(optimizer = 'adam',loss = 'categorical_crossentropy', metrics = ['accuracy'])\n",
        "\n",
        "# Training the CNN on the Training set and evaluating it on the Test set\n",
        "cnn.fit(x = training_set, validation_data = test_set, epochs = 10)"
      ],
      "execution_count": null,
      "outputs": [
        {
          "output_type": "stream",
          "name": "stdout",
          "text": [
            "Epoch 1/10\n",
            "61/61 [==============================] - 1241s 20s/step - loss: 1.1403 - accuracy: 0.5274 - val_loss: 0.9767 - val_accuracy: 0.6132\n",
            "Epoch 2/10\n",
            "61/61 [==============================] - 22s 364ms/step - loss: 0.8069 - accuracy: 0.6966 - val_loss: 0.7426 - val_accuracy: 0.7075\n",
            "Epoch 3/10\n",
            "61/61 [==============================] - 22s 367ms/step - loss: 0.6703 - accuracy: 0.7376 - val_loss: 0.8411 - val_accuracy: 0.6038\n",
            "Epoch 4/10\n",
            "61/61 [==============================] - 23s 371ms/step - loss: 0.6208 - accuracy: 0.7519 - val_loss: 0.5306 - val_accuracy: 0.8019\n",
            "Epoch 5/10\n",
            "61/61 [==============================] - 22s 361ms/step - loss: 0.5243 - accuracy: 0.8063 - val_loss: 0.7080 - val_accuracy: 0.7075\n",
            "Epoch 6/10\n",
            "61/61 [==============================] - 22s 366ms/step - loss: 0.5182 - accuracy: 0.7960 - val_loss: 0.5188 - val_accuracy: 0.8019\n",
            "Epoch 7/10\n",
            "61/61 [==============================] - 22s 367ms/step - loss: 0.4492 - accuracy: 0.8273 - val_loss: 0.4944 - val_accuracy: 0.7925\n",
            "Epoch 8/10\n",
            "61/61 [==============================] - 23s 371ms/step - loss: 0.4159 - accuracy: 0.8411 - val_loss: 0.3830 - val_accuracy: 0.8679\n",
            "Epoch 9/10\n",
            "61/61 [==============================] - 22s 368ms/step - loss: 0.3637 - accuracy: 0.8580 - val_loss: 0.5467 - val_accuracy: 0.7736\n",
            "Epoch 10/10\n",
            "61/61 [==============================] - 22s 367ms/step - loss: 0.4042 - accuracy: 0.8467 - val_loss: 0.3545 - val_accuracy: 0.8868\n"
          ]
        },
        {
          "output_type": "execute_result",
          "data": {
            "text/plain": [
              "<keras.callbacks.History at 0x7faaf7026810>"
            ]
          },
          "metadata": {},
          "execution_count": 7
        }
      ]
    },
    {
      "cell_type": "code",
      "source": [
        ""
      ],
      "metadata": {
        "id": "caO2gO9c6Mty"
      },
      "execution_count": null,
      "outputs": []
    },
    {
      "cell_type": "markdown",
      "metadata": {
        "papermill": {
          "duration": 0.226205,
          "end_time": "2020-12-23T10:27:56.854888",
          "exception": false,
          "start_time": "2020-12-23T10:27:56.628683",
          "status": "completed"
        },
        "tags": [],
        "id": "97sG1gyvGMuU"
      },
      "source": [
        "## Testing "
      ]
    },
    {
      "cell_type": "code",
      "metadata": {
        "id": "CQ4rmfpvTmBa"
      },
      "source": [
        "test_image = image.load_img('/content/drive/MyDrive/bio/archive/Cotton Disease/test/fresh cotton plant/dsd (153)_iaip.jpg',\n",
        "                            target_size = (64,64))\n",
        "test_image = image.img_to_array(test_image)\n",
        "test_image=test_image/255\n",
        "test_image = np.expand_dims(test_image, axis = 0)\n",
        "result = cnn.predict(test_image)"
      ],
      "execution_count": null,
      "outputs": []
    },
    {
      "cell_type": "code",
      "metadata": {
        "colab": {
          "base_uri": "https://localhost:8080/"
        },
        "id": "XPOKRWBmTrZB",
        "outputId": "e18278cd-e1ee-41ea-94be-01c6e0ef0ce6"
      },
      "source": [
        "result"
      ],
      "execution_count": null,
      "outputs": [
        {
          "output_type": "execute_result",
          "data": {
            "text/plain": [
              "array([[0.00754536, 0.02967903, 0.0084659 , 0.95430976]], dtype=float32)"
            ]
          },
          "metadata": {},
          "execution_count": 9
        }
      ]
    },
    {
      "cell_type": "code",
      "metadata": {
        "id": "Rg9C3EsRTrQK"
      },
      "source": [
        "result = result.ravel() \n"
      ],
      "execution_count": null,
      "outputs": []
    },
    {
      "cell_type": "code",
      "metadata": {
        "colab": {
          "base_uri": "https://localhost:8080/"
        },
        "id": "pmd5wyRlTq-K",
        "outputId": "83b5f31a-120b-42a9-ac37-5032daae06aa"
      },
      "source": [
        "result\n"
      ],
      "execution_count": null,
      "outputs": [
        {
          "output_type": "execute_result",
          "data": {
            "text/plain": [
              "array([0.00754536, 0.02967903, 0.0084659 , 0.95430976], dtype=float32)"
            ]
          },
          "metadata": {},
          "execution_count": 11
        }
      ]
    },
    {
      "cell_type": "code",
      "metadata": {
        "colab": {
          "base_uri": "https://localhost:8080/"
        },
        "id": "9ZLYwBf4T1G5",
        "outputId": "a711ebef-61a2-463e-d243-b01971f5e3df"
      },
      "source": [
        "n = len(result)\n",
        "def largest(arr,n):\n",
        "  \n",
        "    # Initialize maximum element\n",
        "    max = arr[0]\n",
        "  \n",
        "    # Traverse array elements from second\n",
        "    # and compare every element with \n",
        "    # current max\n",
        "    for i in range(1, n):\n",
        "        if arr[i] > max:\n",
        "            max = arr[i]\n",
        "    return max\n",
        "ans=largest(result,n)\n",
        "print (\"Largest in given array is\",ans)\n"
      ],
      "execution_count": null,
      "outputs": [
        {
          "output_type": "stream",
          "name": "stdout",
          "text": [
            "Largest in given array is 0.95430976\n"
          ]
        }
      ]
    },
    {
      "cell_type": "code",
      "metadata": {
        "colab": {
          "base_uri": "https://localhost:8080/"
        },
        "id": "aeHHcALrT3Wi",
        "outputId": "1675ac59-a23e-48d4-da0b-8cc07e36f9b5"
      },
      "source": [
        "result.sort\n",
        "\n",
        "result "
      ],
      "execution_count": null,
      "outputs": [
        {
          "output_type": "execute_result",
          "data": {
            "text/plain": [
              "array([0.00754536, 0.02967903, 0.0084659 , 0.95430976], dtype=float32)"
            ]
          },
          "metadata": {},
          "execution_count": 13
        }
      ]
    },
    {
      "cell_type": "code",
      "metadata": {
        "id": "5APmJW5CT5qq"
      },
      "source": [
        "result=result.tolist() "
      ],
      "execution_count": null,
      "outputs": []
    },
    {
      "cell_type": "markdown",
      "metadata": {
        "papermill": {
          "duration": 0.254846,
          "end_time": "2020-12-23T10:28:00.812260",
          "exception": false,
          "start_time": "2020-12-23T10:28:00.557414",
          "status": "completed"
        },
        "tags": [],
        "id": "xDaB-xadGMuX"
      },
      "source": [
        "## Conclusion"
      ]
    },
    {
      "cell_type": "code",
      "metadata": {
        "execution": {
          "iopub.execute_input": "2020-12-23T10:28:01.286234Z",
          "iopub.status.busy": "2020-12-23T10:28:01.285528Z",
          "iopub.status.idle": "2020-12-23T10:28:01.289158Z",
          "shell.execute_reply": "2020-12-23T10:28:01.289682Z"
        },
        "papermill": {
          "duration": 0.237178,
          "end_time": "2020-12-23T10:28:01.289838",
          "exception": false,
          "start_time": "2020-12-23T10:28:01.052660",
          "status": "completed"
        },
        "tags": [],
        "id": "TyEyPmPBGMuX"
      },
      "source": [
        "import numpy as np\n",
        "result1=[\"diseased_leaf\",\"diseased_plant\",\"fresh_leaf\",\"fresh_plant\"]\n"
      ],
      "execution_count": null,
      "outputs": []
    },
    {
      "cell_type": "code",
      "metadata": {
        "papermill": {
          "duration": 0.231655,
          "end_time": "2020-12-23T10:28:02.690477",
          "exception": false,
          "start_time": "2020-12-23T10:28:02.458822",
          "status": "completed"
        },
        "tags": [],
        "id": "Fby9bpc_GMuY",
        "colab": {
          "base_uri": "https://localhost:8080/"
        },
        "outputId": "9bc93323-aeab-4245-b0c1-99a3abb3fbe8"
      },
      "source": [
        "\n",
        "index = np.argmax(result)\n",
        "print(index)\n",
        " \n",
        "print(\"Largest element present in given array: \" +str(ans)+\" And it belongs to \" +str(result1[index]) +\" class.\");      \n"
      ],
      "execution_count": null,
      "outputs": [
        {
          "output_type": "stream",
          "name": "stdout",
          "text": [
            "3\n",
            "Largest element present in given array: 0.95430976 And it belongs to fresh_plant class.\n"
          ]
        }
      ]
    },
    {
      "cell_type": "code",
      "metadata": {
        "id": "u2T5ZNqp7uvp"
      },
      "source": [
        ""
      ],
      "execution_count": null,
      "outputs": []
    }
  ]
}